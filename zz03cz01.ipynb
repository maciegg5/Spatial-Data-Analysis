{
 "cells": [
  {
   "cell_type": "markdown",
   "id": "a676bb07",
   "metadata": {
    "deletable": false,
    "editable": false,
    "nbgrader": {
     "cell_type": "markdown",
     "checksum": "de5d2954ee53a96e0e5fe7d13e6051d7",
     "grade": false,
     "grade_id": "cell-fcd2666579131b77",
     "locked": true,
     "schema_version": 3,
     "solution": false,
     "task": false
    },
    "tags": []
   },
   "source": [
    "# Analiza danych przestrzennych - ćwiczenia laboratoryjne 2023/2024\n",
    "\n",
    "Ten notatnik zalicza się do grupy zestawów zadań, na podstawie których odbywa się zaliczenie ćwiczeń i podlega zwrotowi do oceny w ustalonym na zajęciach terminie.\n",
    "\n",
    "Uwagi i wytyczne ogólne dotyczące uzupełniania i oceny notatnika:\n",
    "- Podczas wykonywania zadań należy korzystać wyłącznie z pakietów zaimportowanych na początku notatnika oraz z pakietów wchodzących w skład standardowej biblioteki Pythona, które można zaimportować samodzielnie we wskazanej komórce notatnika.\n",
    "- Swoje rozwiązania należy wprowadzać wyłącznie w miejce następujących fragmentów kodu:<br/> `# YOUR CODE HERE`<br/> `raise NotImplementedError()`<br/> \n",
    "a odpowiedzi tekstowe w komórkach oznaczonych hasłem:<br/> \n",
    "`YOUR ANSWER HERE`<br/> \n",
    "Nie należy w żaden sposób modyfikować pozostałych fragmentów kodu oraz innych elementów notatnika, w szczególności dodawać lub usuwać komórek oraz zmieniać nazwy pliku.\n",
    "- Jeżeli zestaw zadań wymaga skorzystania z fragmentów kodu opracowanego w ramach wcześniejszych zestawów zadań należy je umieścić we wskazanej komórce notatnika.\n",
    "- Otrzymywane wyniki i odpowiedzi mają być rezultatem wykonania napisanego kodu, odpowiedzi uzupełniane manualnie nie podlegają ocenie.\n",
    "- Zawarte w notatniku automatyczne testy mają charakter poglądowy. Dotyczą one wybranych aspektów zadań i mają na celu wyłapać podstawowe błędy. Przejście przez kod wszystkich testów nie oznacza, że zadanie jest wykonane w całości poprawnie i zostanie ocenione na maksymalną liczbę punktów.\n",
    "- Zadania należy wykonać w taki sposób, aby podczas wykonywania kodu nie zostały wyświetlone żadne ostrzeżenia.\n",
    "- Zadania, które powodują wyświetlenie komunikatu o błędzie przerywającym wykonywanie kodu nie podlegają ocenie.\n",
    "\n",
    "Uwagi i wytyczne ogólne dotyczące wizualizacji wyników:\n",
    "- Wszystkie wykresy powinny być wykonane w jednolitym, przejrzystym i czytelnym stylu, posiadać odpowiednio dobrane proporcje i zakresy wartości osi.\n",
    "- Figury powinny mieć ustawione białe tło, tak, aby niezależnie od ustawień notatnika wszystkie elementy wykresów były dobrze widoczne (domyślnie tło jest przeźroczyste co może powodować problemy w notatnikach z ustawionym ciemnym tłem). Rozmiar poziomy figur nie powinien przekraczać 20 cali.\n",
    "- Wykresy oraz ich osie powinny mieć nadane tytuły. Jeżeli w obrębie figury znajduje się więcej niż jeden wykres to figura również powinna mieć nadany tytuł.\n",
    "\n",
    "Przed odesłaniem zestawu zadań do oceny proszę uzupełnić komórkę z danymi autorów rozwiązania (nazwa zespołu oraz imiona, nazwiska i numery indeksów członków zespołu) oraz upewnić się, że notatnik działa zgodnie z oczekiwaniami. W tym celu należy skorzystać z opcji **Restart Kernel and Run All Cells...** dostępnej na górnej belce notatnika pod symbolem $\\blacktriangleright\\blacktriangleright$."
   ]
  },
  {
   "cell_type": "markdown",
   "id": "830695b2",
   "metadata": {},
   "source": [
    "Nazwa zespołu: IAD25\n",
    "Członkowie: Karolina Minor, Filip Przyczyna, Maciej Zabdyr, Maria Zalewska"
   ]
  },
  {
   "cell_type": "markdown",
   "id": "2b6077b8",
   "metadata": {
    "deletable": false,
    "editable": false,
    "nbgrader": {
     "cell_type": "markdown",
     "checksum": "eddc8826810e4a6f7bf68319da334bd9",
     "grade": false,
     "grade_id": "cell-109006d425e5cf83",
     "locked": true,
     "schema_version": 3,
     "solution": false,
     "task": false
    },
    "tags": []
   },
   "source": [
    "---"
   ]
  },
  {
   "cell_type": "markdown",
   "id": "fe74743f-1998-4812-ac65-974bd8469d8d",
   "metadata": {
    "deletable": false,
    "editable": false,
    "nbgrader": {
     "cell_type": "markdown",
     "checksum": "1c2069cc6d722a734aaf19aa1762544b",
     "grade": false,
     "grade_id": "cell-21ac76da9323c36f",
     "locked": true,
     "schema_version": 3,
     "solution": false,
     "task": false
    },
    "tags": []
   },
   "source": [
    "## Zestaw zadań 3: Elementy statystyki opisowej 3 (Notatnik 1/3)"
   ]
  },
  {
   "cell_type": "code",
   "execution_count": 1,
   "id": "7f9968ab-aec5-4893-b0ad-34121d66004f",
   "metadata": {
    "deletable": false,
    "editable": false,
    "nbgrader": {
     "cell_type": "code",
     "checksum": "20798ed090b7142168484e8e89c74ddf",
     "grade": false,
     "grade_id": "cell-4a5af93ac80c2e34",
     "locked": true,
     "schema_version": 3,
     "solution": false,
     "task": false
    },
    "tags": []
   },
   "outputs": [],
   "source": [
    "import numpy as np\n",
    "import pandas as pd\n",
    "import scipy as sp\n",
    "import matplotlib as mpl\n",
    "import matplotlib.pyplot as plt\n",
    "import seaborn as sns"
   ]
  },
  {
   "cell_type": "code",
   "execution_count": 2,
   "id": "c444ab45-1fe7-4008-8c3c-2b1b526a1fbc",
   "metadata": {},
   "outputs": [],
   "source": [
    "# Miejsce do importu pakietów wchodzących w skład standardowej biblioteki Pythona oraz ustawienie opcji wykorzystywanych pakietów"
   ]
  },
  {
   "cell_type": "markdown",
   "id": "3e77dfbb-90cf-463e-b9a7-62e85b221474",
   "metadata": {
    "deletable": false,
    "editable": false,
    "nbgrader": {
     "cell_type": "markdown",
     "checksum": "715e203d04bc87aab84469edcd97219b",
     "grade": false,
     "grade_id": "cell-8251a8dc1dba0354",
     "locked": true,
     "schema_version": 3,
     "solution": false,
     "task": false
    },
    "tags": []
   },
   "source": [
    "### Zadanie 1: Przygotowanie danych [10 pkt]\n",
    "\n",
    "#### a) Natężenie ruchu rowerowego \n",
    "\n",
    "Plik raw_bike_traffic_data.csv zawiera dane na temat ruchu rowerowego na moście Fremont Bridge w Seattle pobrane ze strony\n",
    "https://data.seattle.gov/Transportation/Fremont-Bridge-Bicycle-Counter/65db-xm6k.\n",
    "\n",
    "Zaimportuj zawarte w pliku dane do notatnika i utwórz na ich podstawie tablicę `bike_traffic_data` wykonaną według następujących wytycznych:\n",
    "\n",
    "- Tablica powinna zawierać wyłącznie następujące elementy:</br>\n",
    "    > Indeks: Date</br>\n",
    "    > `pandas.PeriodIndex` zawierający okresy czasu, w których dokonywane były zliczenia rowerzystów.\n",
    "    \n",
    "    > Kolumny: Total, East, West</br>\n",
    "    > Kolumny zawierają liczbę rowerzystów przejeżdżających przez most w poszczególnych godzinach w sumie oraz z podziałem na zachodnią i wschodnią stronę mostu.\n",
    "- Pozostaw w tablicy wyłącznie wiersze dotyczące 2022 roku.\n",
    "\n",
    "Zapisz tablicę do pliku bike_traffic_data.pkl.\n",
    "\n",
    "Wyświetl przygotowaną tablicę w taki sposób aby widoczne było po 12 pierwszych i ostatnich wierszy, a zawarte w tablicy wartości wyświetlały się bez miejsc po przecinku."
   ]
  },
  {
   "cell_type": "code",
   "execution_count": 3,
   "id": "a1a3f1e9-3392-41a0-a73d-167b235303dd",
   "metadata": {
    "deletable": false,
    "nbgrader": {
     "cell_type": "code",
     "checksum": "69701381bad47b312d4a37590f131714",
     "grade": false,
     "grade_id": "cell-aa85199b5cb633d2",
     "locked": false,
     "schema_version": 3,
     "solution": true,
     "task": false
    },
    "tags": []
   },
   "outputs": [
    {
     "name": "stderr",
     "output_type": "stream",
     "text": [
      "/tmp/ipykernel_8864/665272851.py:3: UserWarning: Could not infer format, so each element will be parsed individually, falling back to `dateutil`. To ensure parsing is consistent and as-expected, please specify a format.\n",
      "  bike_traffic_data.index = pd.to_datetime( bike_traffic_data.index )\n"
     ]
    },
    {
     "name": "stdout",
     "output_type": "stream",
     "text": [
      "                  Total  East  West\n",
      "Date                               \n",
      "2022-01-01 00:00    0.0   0.0   0.0\n",
      "2022-01-01 01:00    0.0   0.0   0.0\n",
      "2022-01-01 02:00    1.0   0.0   1.0\n",
      "2022-01-01 03:00    0.0   0.0   0.0\n",
      "2022-01-01 04:00    0.0   0.0   0.0\n",
      "2022-01-01 05:00    1.0   1.0   0.0\n",
      "2022-01-01 06:00    1.0   1.0   0.0\n",
      "2022-01-01 07:00    1.0   1.0   0.0\n",
      "2022-01-01 08:00    3.0   3.0   0.0\n",
      "2022-01-01 09:00    2.0   0.0   2.0\n",
      "2022-01-01 10:00    0.0   0.0   0.0\n",
      "2022-01-01 11:00    1.0   0.0   1.0\n",
      "2022-12-31 12:00  124.0  63.0  61.0\n",
      "2022-12-31 13:00  103.0  56.0  47.0\n",
      "2022-12-31 14:00   98.0  46.0  52.0\n",
      "2022-12-31 15:00   83.0  40.0  43.0\n",
      "2022-12-31 16:00   68.0  28.0  40.0\n",
      "2022-12-31 17:00   35.0  19.0  16.0\n",
      "2022-12-31 18:00   28.0  15.0  13.0\n",
      "2022-12-31 19:00   14.0   6.0   8.0\n",
      "2022-12-31 20:00   20.0  13.0   7.0\n",
      "2022-12-31 21:00   16.0   6.0  10.0\n",
      "2022-12-31 22:00   23.0  15.0   8.0\n",
      "2022-12-31 23:00   25.0  15.0  10.0\n"
     ]
    },
    {
     "name": "stderr",
     "output_type": "stream",
     "text": [
      "/tmp/ipykernel_8864/665272851.py:4: FutureWarning: 'H' is deprecated and will be removed in a future version, please use 'h' instead.\n",
      "  bike_traffic_data.index = bike_traffic_data.index.to_period( 'H' )\n"
     ]
    }
   ],
   "source": [
    "bike_traffic_data = pd.read_csv( 'raw_data/raw_bike_traffic_data.csv', index_col = 'Date' )\n",
    "bike_traffic_data = bike_traffic_data.rename( columns = { 'Fremont Bridge Total': 'Total', 'Fremont Bridge East Sidewalk': 'East', 'Fremont Bridge West Sidewalk': 'West' } )\n",
    "bike_traffic_data.index = pd.to_datetime( bike_traffic_data.index )\n",
    "bike_traffic_data.index = bike_traffic_data.index.to_period( 'H' )\n",
    "bike_traffic_data = bike_traffic_data[ bike_traffic_data.index.year == 2022 ]\n",
    "bike_traffic_data.to_pickle( 'bike_traffic_data.pkl' )\n",
    "\n",
    "combined_rows = pd.concat( [ bike_traffic_data.head( 12 ), bike_traffic_data.tail( 12 ) ] )\n",
    "print( combined_rows )"
   ]
  },
  {
   "cell_type": "code",
   "execution_count": 4,
   "id": "e39740a0-38f2-4b64-83f3-28b3c612b28c",
   "metadata": {
    "deletable": false,
    "editable": false,
    "nbgrader": {
     "cell_type": "code",
     "checksum": "46849aa3637d7997c84fb4c840f6e852",
     "grade": true,
     "grade_id": "cell-683b0a3c6c74d0c6",
     "locked": true,
     "points": 2,
     "schema_version": 3,
     "solution": false,
     "task": false
    },
    "tags": []
   },
   "outputs": [
    {
     "name": "stderr",
     "output_type": "stream",
     "text": [
      "/tmp/ipykernel_8864/1841253091.py:9: FutureWarning: 'H' is deprecated and will be removed in a future version, please use 'h' instead.\n",
      "  assert bike_traffic_data.index.values.min() == pd.Period('2022-01-01 00:00', 'H')\n",
      "/tmp/ipykernel_8864/1841253091.py:10: FutureWarning: 'H' is deprecated and will be removed in a future version, please use 'h' instead.\n",
      "  assert bike_traffic_data.index.values.max() == pd.Period('2022-12-31 23:00', 'H')\n"
     ]
    }
   ],
   "source": [
    "### Komórka testowa\n",
    "# Test 1 Kształt tablicy\n",
    "assert bike_traffic_data.shape == (8760, 3)\n",
    "# Test 2 Kolumny\n",
    "assert len(set(list(bike_traffic_data.columns)) & set(['Total', 'East', 'West'])) == 3\n",
    "# Test 3 Indeks\n",
    "assert (bike_traffic_data.index.name == 'Date') == True\n",
    "assert isinstance(bike_traffic_data.index, pd.PeriodIndex)\n",
    "assert bike_traffic_data.index.values.min() == pd.Period('2022-01-01 00:00', 'H')\n",
    "assert bike_traffic_data.index.values.max() == pd.Period('2022-12-31 23:00', 'H')\n",
    "# Test 4 Zawartość kolumn\n",
    "assert np.all(np.isclose(bike_traffic_data[['Total', 'East', 'West']].min().values, np.array([0, 0, 0]))) == True\n",
    "assert np.all(np.isclose(bike_traffic_data[['Total', 'East', 'West']].max().values, np.array([717, 464, 635]))) == True"
   ]
  },
  {
   "cell_type": "markdown",
   "id": "f24c1ec2-ae66-4ff0-b0b6-9a8c72465b1c",
   "metadata": {
    "deletable": false,
    "editable": false,
    "nbgrader": {
     "cell_type": "markdown",
     "checksum": "0b4911483491d2de17317840570748eb",
     "grade": false,
     "grade_id": "cell-573405bbd6e6471e",
     "locked": true,
     "schema_version": 3,
     "solution": false,
     "task": false
    },
    "tags": []
   },
   "source": [
    "#### b) Pogoda\n",
    "\n",
    "Pliki 2022_01.txt, 2022_02.txt ...  2022_12.txt zawierają miesięczne raporty pogodowe (F6 Preliminary Local Climate Data Report) ze stacji NWS Seattle/Tacoma, WA pobrane ze strony https://forecast.weather.gov/product.php?site=SEW&product=CF6&issuedby=SEW.\n",
    "\n",
    "Wyjaśnienie wykorzystanych w raportach symboli i skrótów można znaleźć pod następującym linkiem: https://www.weather.gov/grr/climateF6explain.\n",
    "\n",
    "Zaimportuj zawarte w plikach dane do notatnika i utwórz na ich podstawie tablicę `weather_data` wykonaną według następujących wytycznych:\n",
    "\n",
    "- Tablica powinna zawierać wyłącznie następujące elementy:</br>\n",
    "    > Indeks: Date</br>\n",
    "    > `pandas.PeriodIndex` zawierający okresy czasu, których dotyczą dane z raportów pogodowych.</br>\n",
    "    \n",
    "    > Kolumny: 2-poziomowe nagłówki w podanej niżej kolejności (nazwa 1 poziomu: podległe jej nazwy 2 poziomu) </br>\n",
    "    >> Temperature: Min, Avg, Max</br>\n",
    "    >> Precipitation: Total</br>\n",
    "    >> Snow: Fall, Depth</br>\n",
    "    >> Wind:  Avg speed, Max speed</br>\n",
    "    >> Sky: Cloud cover</br>\n",
    "\n",
    "- Zamień oznaczenia opadów śladowych na wartość 0.\n",
    "- Przelicz występujące w tablicy wartości do *C (temperatura), mm (opady), m/s (wiatr) i ułamków (zachmurzenie).\n",
    "\n",
    "Zapisz tablicę do pliku weather_data.pkl.\n",
    "\n",
    "Wyświetl przygotowaną tablicę w taki sposób aby widoczne było po 10 pierwszych i ostatnich wierszy, a zawarte w tablicy liczby wyświetlały się z dokładnością 2 miejsc po przecinku."
   ]
  },
  {
   "cell_type": "code",
   "execution_count": 5,
   "id": "b6a63e4b-3065-4aab-8ae3-7859d3471bf9",
   "metadata": {
    "deletable": false,
    "nbgrader": {
     "cell_type": "code",
     "checksum": "7672db233c633d96ab05f5f5dd5e7f3b",
     "grade": false,
     "grade_id": "cell-186c2f35c4f9aca6",
     "locked": false,
     "schema_version": 3,
     "solution": true,
     "task": false
    },
    "tags": []
   },
   "outputs": [
    {
     "name": "stdout",
     "output_type": "stream",
     "text": [
      "                                                     0\n",
      "0     1  34  22  28 -14  37   0 0.00  0.0    3  8.0...\n",
      "1     2  43  30  37  -5  28   0 0.79  0.0    3  8.5...\n",
      "2     3  41  33  37  -5  28   0 0.49    0    0 11.5...\n",
      "3     4  42  35  39  -3  26   0 0.22  0.0    0  9.7...\n",
      "4     5  39  34  37  -5  28   0 0.33    0    0  5.0...\n",
      "..                                                 ...\n",
      "360  27  53  44  49   7  16   0 0.27  0.0    0 17.3...\n",
      "361  28  46  41  44   2  21   0 0.03  0.0    0 12.9...\n",
      "362  29  46  41  44   2  21   0 0.35  0.0    0  6.2...\n",
      "363  30  53  42  48   6  17   0 0.36  0.0    0 14.4...\n",
      "364  31  49  43  46   4  19   0 0.01  0.0    0 10.0...\n",
      "\n",
      "[365 rows x 1 columns]\n",
      "           Temperature             Precipitation Snow            Wind  \\\n",
      "                   Min   Avg   Max         Total Fall Depth Avg speed   \n",
      "Date                                                                    \n",
      "2022-01-01       -5.56 -2.22  1.11          0.00 0.00 76.20      3.58   \n",
      "2022-01-02       -1.11  2.78  6.11         20.07 0.00 76.20      3.80   \n",
      "2022-01-03        0.56  2.78  5.00         12.45 0.00  0.00      5.14   \n",
      "2022-01-04        1.67  3.89  5.56          5.59 0.00  0.00      4.34   \n",
      "2022-01-05        1.11  2.78  3.89          8.38 0.00  0.00      2.24   \n",
      "2022-01-06        2.22  6.11 10.00         50.80 0.00  0.00      6.39   \n",
      "2022-01-07        3.33  6.11  8.89          9.65 0.00  0.00      6.62   \n",
      "2022-01-08        2.78  5.00  7.22          0.00 0.00  0.00      4.02   \n",
      "2022-01-09        0.00  5.00 10.00          0.00 0.00  0.00      2.37   \n",
      "2022-01-10        0.56  5.00  8.89          6.86 0.00  0.00      2.59   \n",
      "2022-12-22       -7.78 -5.56 -3.33          0.00 0.00 25.40      5.95   \n",
      "2022-12-23       -5.00 -0.56  3.89          8.89 0.00  0.00      4.20   \n",
      "2022-12-24        2.22  7.22 11.67         38.61 0.00  0.00      4.78   \n",
      "2022-12-25        8.33 10.00 11.67         11.43 0.00  0.00      2.19   \n",
      "2022-12-26        7.78 11.11 13.89         28.45 0.00  0.00      5.01   \n",
      "2022-12-27        6.67  9.44 11.67          6.86 0.00  0.00      7.73   \n",
      "2022-12-28        5.00  6.67  7.78          0.76 0.00  0.00      5.77   \n",
      "2022-12-29        5.00  6.67  7.78          8.89 0.00  0.00      2.77   \n",
      "2022-12-30        5.56  8.89 11.67          9.14 0.00  0.00      6.44   \n",
      "2022-12-31        6.11  7.78  9.44          0.25 0.00  0.00      4.47   \n",
      "\n",
      "                             Sky  \n",
      "           Max speed Cloud cover  \n",
      "Date                              \n",
      "2022-01-01      5.36        0.80  \n",
      "2022-01-02      8.94        1.00  \n",
      "2022-01-03     11.62        0.90  \n",
      "2022-01-04      9.83        0.90  \n",
      "2022-01-05      4.47        1.00  \n",
      "2022-01-06     10.73        1.00  \n",
      "2022-01-07     13.41        0.90  \n",
      "2022-01-08      7.60        0.70  \n",
      "2022-01-09      6.71        0.30  \n",
      "2022-01-10      6.71        0.90  \n",
      "2022-12-22     12.52        0.70  \n",
      "2022-12-23      8.94        1.00  \n",
      "2022-12-24     10.28        1.00  \n",
      "2022-12-25      6.71        0.90  \n",
      "2022-12-26     13.86        1.00  \n",
      "2022-12-27     16.54        1.00  \n",
      "2022-12-28     12.52        0.80  \n",
      "2022-12-29      7.60        1.00  \n",
      "2022-12-30     11.62        0.90  \n",
      "2022-12-31      9.39        0.90  \n"
     ]
    },
    {
     "name": "stderr",
     "output_type": "stream",
     "text": [
      "/tmp/ipykernel_8864/263891676.py:41: FutureWarning: ChainedAssignmentError: behaviour will change in pandas 3.0!\n",
      "You are setting values through chained assignment. Currently this works in certain cases, but when using Copy-on-Write (which will become the default behaviour in pandas 3.0) this will never work to update the original DataFrame or Series, because the intermediate object on which we are setting values will behave as a copy.\n",
      "A typical example is when you are setting values in a column of a DataFrame, like:\n",
      "\n",
      "df[\"col\"][row_indexer] = value\n",
      "\n",
      "Use `df.loc[row_indexer, \"col\"] = values` instead, to perform the assignment in a single step and ensure this keeps updating the original `df`.\n",
      "\n",
      "See the caveats in the documentation: https://pandas.pydata.org/pandas-docs/stable/user_guide/indexing.html#returning-a-view-versus-a-copy\n",
      "\n",
      "  weather_data[0].iloc[start:end] = weather_data[0].iloc[start:end].str.slice(1)\n"
     ]
    }
   ],
   "source": [
    "weather_data = []\n",
    "columns = [ 'DY', 'Max', 'Min', 'Avg', 'DEP', 'HDD', 'CDD', 'Total', 'Fall', \n",
    "           'Depth', 'Avg speed', 'Max speed', 'DIR', 'MIN', 'PSBL', 'Cloud cover',\n",
    "           'WX', 'SPD', 'DR' ]\n",
    "index_ranges = [\n",
    "    ( 0, 9 ),\n",
    "    ( 31, 40 ),\n",
    "    ( 59, 68 ),\n",
    "    ( 90, 99 ),\n",
    "    ( 120, 129 ),\n",
    "    ( 151, 160 ),\n",
    "    ( 181, 190 ),\n",
    "    ( 212, 221 ),\n",
    "    ( 243, 252 ),\n",
    "    ( 273, 282 ),\n",
    "    ( 304, 313 ),\n",
    "    ( 334, 343 )    \n",
    "]\n",
    "\n",
    "k=0\n",
    "stop = 0\n",
    "for nr in range(1,13):\n",
    "    msc = str(nr).zfill(2)\n",
    "    name = f\"2022_{msc}.txt\"\n",
    "    with open(name, \"r\") as file:\n",
    "        lines = file.readlines()\n",
    "        k = 0  # Inicjalizacja zmiennej k\n",
    "        for ix, line in enumerate(lines):\n",
    "            if line.strip() == \"================================================================================\":\n",
    "                k += 1\n",
    "            if k == 3:\n",
    "                stop = ix\n",
    "                break\n",
    "    weather_data.extend(lines[18:stop])\n",
    "\n",
    "\n",
    "weather_data = pd.DataFrame(weather_data)\n",
    "weather_data[0] = weather_data[0].apply(lambda x: x.replace('T', '0'))\n",
    "print( weather_data )\n",
    "for start, end in index_ranges:\n",
    "    weather_data[0].iloc[start:end] = weather_data[0].iloc[start:end].str.slice(1)\n",
    "weather_data = weather_data[0].str.split(r'\\s+', expand=True)\n",
    "weather_data = weather_data.iloc[:, :-1]\n",
    "weather_data.columns = columns\n",
    "\n",
    "\n",
    "weather_data = weather_data.set_index( 'DY' )\n",
    "#print( weather_data )\n",
    "\n",
    "weather_data.index = pd.period_range( start = '2022-01-01', end = '2022-12-31', freq = 'D' )\n",
    "weather_data.index.name = 'Date'\n",
    "\n",
    "weather_data['Max'] = pd.to_numeric(weather_data['Max'], errors='coerce')\n",
    "weather_data['Min'] = pd.to_numeric(weather_data['Min'], errors='coerce')\n",
    "weather_data['Avg'] = pd.to_numeric(weather_data['Avg'], errors='coerce')\n",
    "weather_data['Fall'] = pd.to_numeric(weather_data['Fall'], errors='coerce')\n",
    "weather_data['Depth'] = pd.to_numeric(weather_data['Depth'], errors='coerce')\n",
    "weather_data['Total'] = pd.to_numeric(weather_data['Total'], errors='coerce')\n",
    "weather_data['Avg speed'] = pd.to_numeric(weather_data['Avg speed'], errors='coerce')\n",
    "weather_data['Max speed'] = pd.to_numeric(weather_data['Max speed'], errors='coerce')\n",
    "weather_data['Cloud cover'] = pd.to_numeric(weather_data['Cloud cover'], errors='coerce')\n",
    "\n",
    "weather_data['Total'] = weather_data['Total'].replace('T', 0.0)\n",
    "weather_data['Max'] = ( weather_data['Max'] - 32 ) * 5/9\n",
    "weather_data['Min'] = ( weather_data['Min'] - 32 ) * 5/9\n",
    "weather_data['Avg'] = ( weather_data['Avg'] - 32)  * 5/9\n",
    "weather_data['Total'] *= 25.4\n",
    "weather_data['Depth'] *= 25.4\n",
    "weather_data['Fall'] *= 25.4\n",
    "weather_data['Avg speed'] *= 0.447038889\n",
    "weather_data['Max speed'] *= 0.447038889\n",
    "weather_data['Cloud cover'] /= 10\n",
    "\n",
    "weather_data = weather_data[[ 'Min', 'Avg', 'Max', 'Total', 'Fall', 'Depth', 'Avg speed', 'Max speed', 'Cloud cover' ]]\n",
    "\n",
    "header = pd.MultiIndex.from_tuples([\n",
    "    ('Temperature', 'Min'),\n",
    "    ('Temperature', 'Avg'),\n",
    "    ('Temperature', 'Max'),\n",
    "    ('Precipitation', 'Total'),\n",
    "    ('Snow', 'Fall'),\n",
    "    ('Snow', 'Depth'),\n",
    "    ('Wind', 'Avg speed'),\n",
    "    ('Wind', 'Max speed'),\n",
    "    ('Sky', 'Cloud cover')\n",
    "])\n",
    "\n",
    "weather_data = pd.DataFrame( weather_data.values, index = weather_data.index, columns = header )\n",
    "weather_data.to_pickle( \"weather_data.pkl\" )\n",
    "\n",
    "with pd.option_context( 'display.float_format', '{:0.2f}'.format ):\n",
    "    print( pd.concat( [ weather_data.iloc[:10], weather_data.iloc[-10:] ] ) )"
   ]
  },
  {
   "cell_type": "code",
   "execution_count": 7,
   "id": "c7778655-5942-4aa7-b44f-eb9bef4f0a5c",
   "metadata": {
    "deletable": false,
    "editable": false,
    "nbgrader": {
     "cell_type": "code",
     "checksum": "1d099eab90198a9210294c9187ad092e",
     "grade": true,
     "grade_id": "cell-e70d426962ca7e21",
     "locked": true,
     "points": 8,
     "schema_version": 3,
     "solution": false,
     "task": false
    },
    "tags": []
   },
   "outputs": [],
   "source": [
    "### Komórka testowa\n",
    "# Test 1 Kształt tablicy\n",
    "assert weather_data.shape == (365, 9)\n",
    "# Test 2 Kolumny\n",
    "assert len(set(list(weather_data.columns)) & set([('Temperature', 'Min'), ('Temperature', 'Avg'), ('Temperature', 'Max'), ('Precipitation', 'Total'),\n",
    "            ('Snow', 'Fall'), ('Snow', 'Depth'), ('Wind', 'Avg speed'), ('Wind', 'Max speed'), ('Sky', 'Cloud cover')])) == 9\n",
    "# Test 3 Indeks\n",
    "assert (weather_data.index.name == 'Date') == True\n",
    "assert isinstance(weather_data.index, pd.PeriodIndex) == True\n",
    "assert weather_data.index.values.min() == pd.Period('2022-01-01', 'D')\n",
    "assert weather_data.index.values.max() == pd.Period('2022-12-31', 'D')\n",
    "# Test 4 Zawartość kolumn\n",
    "assert np.all(np.isclose(weather_data.min().values, np.array([-7.77777778, -5.55555556, -3.33333333, 0., 0., 0., 0.89407778, 3.12927222, 0.]))) == True\n",
    "assert np.all(np.isclose(weather_data.max().values, np.array([20., 26.66666667, 35., 75.438, 66.04, 76.2, 8.31492333, 16.54043889, 1.]))) == True"
   ]
  }
 ],
 "metadata": {
  "kernelspec": {
   "display_name": "Python 3 (ipykernel)",
   "language": "python",
   "name": "python3"
  },
  "language_info": {
   "codemirror_mode": {
    "name": "ipython",
    "version": 3
   },
   "file_extension": ".py",
   "mimetype": "text/x-python",
   "name": "python",
   "nbconvert_exporter": "python",
   "pygments_lexer": "ipython3",
   "version": "3.12.2"
  }
 },
 "nbformat": 4,
 "nbformat_minor": 5
}
